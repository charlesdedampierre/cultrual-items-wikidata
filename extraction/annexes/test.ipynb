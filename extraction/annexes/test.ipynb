{
 "cells": [
  {
   "cell_type": "code",
   "execution_count": 109,
   "id": "f1768529-919e-43ee-93ae-3bd40e7d2761",
   "metadata": {
    "tags": []
   },
   "outputs": [],
   "source": [
    "import json\n",
    "\n",
    "with open('notable_work.json', 'r') as f:\n",
    "    data = json.load(f)\n",
    "\n",
    "data_fil = [x for x in data if x != []]\n",
    "\n",
    "wikidata_indi = [[y['subject']['value'] for y in x] for x in data_fil]\n",
    "wikidata_indi_label = [[y['subjectLabel']['value'] for y in x] for x in data_fil]\n",
    "wikidata_work = [[y['work']['value'] for y in x] for x in data_fil]\n",
    "wikidata_work_label = [[y['workLabel']['value'] for y in x] for x in data_fil]\n",
    "\n",
    "\n",
    "df =  pd.DataFrame({'individual_wikidata_id':wikidata_indi, \n",
    "                     'individual_name':wikidata_indi_label, \n",
    "                     'notable_work_wikidata_id':wikidata_work,\n",
    "                     'notable_work_name':wikidata_work_label})\n",
    "\n",
    "df = df.explode(['individual_wikidata_id', 'individual_name', 'notable_work_wikidata_id', 'notable_work_name'])\n",
    "df['individual_wikidata_id'] = df['individual_wikidata_id'].apply(lambda x : x.split('/entity/')[1])\n",
    "df['notable_work_wikidata_id'] = df['notable_work_wikidata_id'].apply(lambda x : x.split('/entity/')[1])\n",
    "df = df.drop_duplicates().reset_index(drop=True)"
   ]
  },
  {
   "cell_type": "code",
   "execution_count": null,
   "id": "3760f2d2-9912-4f19-bd3b-05a1dd5cf17e",
   "metadata": {
    "tags": []
   },
   "outputs": [],
   "source": []
  },
  {
   "cell_type": "code",
   "execution_count": null,
   "id": "d1d415a2-bf0b-45ca-8d9a-f2903716fc04",
   "metadata": {},
   "outputs": [],
   "source": []
  },
  {
   "cell_type": "code",
   "execution_count": null,
   "id": "6d96c825-eed7-4ddb-969f-d613f90727d0",
   "metadata": {
    "tags": []
   },
   "outputs": [],
   "source": []
  },
  {
   "cell_type": "code",
   "execution_count": null,
   "id": "155b19a9-749d-4df4-be9c-98177f95192b",
   "metadata": {
    "tags": []
   },
   "outputs": [],
   "source": []
  },
  {
   "cell_type": "code",
   "execution_count": null,
   "id": "9e75bfb1-7279-4d9e-95f7-39d87ee8f2f1",
   "metadata": {},
   "outputs": [],
   "source": []
  },
  {
   "cell_type": "code",
   "execution_count": null,
   "id": "f096d2e9-dbe3-4d59-84f0-87e6f95206ae",
   "metadata": {
    "tags": []
   },
   "outputs": [],
   "source": []
  },
  {
   "cell_type": "code",
   "execution_count": null,
   "id": "0a030842-9c78-4488-b300-0963e1a6046d",
   "metadata": {
    "tags": []
   },
   "outputs": [],
   "source": []
  },
  {
   "cell_type": "code",
   "execution_count": null,
   "id": "8af1bf2e-a839-4616-91c8-7af6d4612735",
   "metadata": {
    "tags": []
   },
   "outputs": [],
   "source": []
  },
  {
   "cell_type": "code",
   "execution_count": null,
   "id": "8b576adf-fe19-414a-bdb1-48056102122f",
   "metadata": {
    "tags": []
   },
   "outputs": [],
   "source": []
  },
  {
   "cell_type": "code",
   "execution_count": null,
   "id": "396882e7-e19e-4151-9736-cd03a5539534",
   "metadata": {
    "tags": []
   },
   "outputs": [],
   "source": []
  },
  {
   "cell_type": "code",
   "execution_count": null,
   "id": "859fe708-acc3-45da-9156-b16ea60683f0",
   "metadata": {
    "tags": []
   },
   "outputs": [],
   "source": []
  },
  {
   "cell_type": "code",
   "execution_count": null,
   "id": "8fc95870-6eda-4b80-a293-9372c2692005",
   "metadata": {
    "tags": []
   },
   "outputs": [],
   "source": []
  },
  {
   "cell_type": "code",
   "execution_count": null,
   "id": "a0332b05-5a46-49fa-a549-c5b01aab7dee",
   "metadata": {},
   "outputs": [],
   "source": []
  }
 ],
 "metadata": {
  "kernelspec": {
   "display_name": "Python 3 (ipykernel)",
   "language": "python",
   "name": "python3"
  },
  "language_info": {
   "codemirror_mode": {
    "name": "ipython",
    "version": 3
   },
   "file_extension": ".py",
   "mimetype": "text/x-python",
   "name": "python",
   "nbconvert_exporter": "python",
   "pygments_lexer": "ipython3",
   "version": "3.8.16"
  }
 },
 "nbformat": 4,
 "nbformat_minor": 5
}
